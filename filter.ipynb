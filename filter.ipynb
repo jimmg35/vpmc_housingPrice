{
 "cells": [
  {
   "cell_type": "code",
   "execution_count": 1,
   "metadata": {},
   "outputs": [],
   "source": [
    "from src.holder.HolderArray import HolderArray \n",
    "from src.util.util import readFile, structureHolder, outputCases, outputDeviantTable, initCountyFolder"
   ]
  },
  {
   "cell_type": "code",
   "execution_count": null,
   "metadata": {},
   "outputs": [],
   "source": [
    "landArrays = readFile(\"data/mergeData/h/land.csv\", \"Land\")"
   ]
  },
  {
   "cell_type": "code",
   "execution_count": null,
   "metadata": {},
   "outputs": [],
   "source": [
    "parkArrays = readFile(\"data/mergeData/h/park.csv\", \"Park\")"
   ]
  },
  {
   "cell_type": "code",
   "execution_count": 4,
   "metadata": {},
   "outputs": [],
   "source": [
    "dealArrays = readFile(\"data/mergeData/h/deal.csv\", \"Deal\")"
   ]
  },
  {
   "cell_type": "code",
   "execution_count": null,
   "metadata": {},
   "outputs": [],
   "source": [
    "buildArrays = readFile(\"data/mergeData/h/build.csv\", \"Build\")"
   ]
  }
 ],
 "metadata": {
  "interpreter": {
   "hash": "42cda1e8cae2e8411286f950905e387f946953ff4ab32393f215c4797aee507c"
  },
  "kernelspec": {
   "display_name": "Python 3.7.3 64-bit",
   "language": "python",
   "name": "python3"
  },
  "language_info": {
   "codemirror_mode": {
    "name": "ipython",
    "version": 3
   },
   "file_extension": ".py",
   "mimetype": "text/x-python",
   "name": "python",
   "nbconvert_exporter": "python",
   "pygments_lexer": "ipython3",
   "version": "3.7.3"
  },
  "orig_nbformat": 4
 },
 "nbformat": 4,
 "nbformat_minor": 2
}
